{
 "cells": [
  {
   "attachments": {},
   "cell_type": "markdown",
   "metadata": {},
   "source": [
    "## CNN from scratch: Demo\n",
    "\n",
    "(Training this model for 1 epoch takes roughly 7 minutes on Apple M1 chip. You can opt to skip the first section and load a pre-trained model in the next section.)"
   ]
  },
  {
   "cell_type": "code",
   "execution_count": 4,
   "metadata": {},
   "outputs": [
    {
     "name": "stdout",
     "output_type": "stream",
     "text": [
      "Loading datasets...\n",
      "Training data: 60000 28x28 images\n",
      "Testing data: 10000 28x28 images\n",
      "==================================================\n",
      "Iteration: 0 | Loss: 2.535\n",
      "Iteration: 1000 | Loss: 0.087\n",
      "Iteration: 2000 | Loss: 0.019\n",
      "Iteration: 3000 | Loss: 0.215\n",
      "Iteration: 4000 | Loss: 0.003\n",
      "Iteration: 5000 | Loss: 0.001\n",
      "==================================================\n",
      "Traninig completed.\n",
      "Total training time:444.7746s\n",
      "Training iteration : 6000\n"
     ]
    }
   ],
   "source": [
    "from Get_Datasets import get_data_from_torchvision_datasets\n",
    "from CNN_lib import Linear, Conv2d, MaxPool2d, ReLU, Flatten, Sequential, Cross_entropy, SGD, DataLoader\n",
    "import numpy as np\n",
    "import time\n",
    "\n",
    "# download dataset from torchvision datasets, then convert to numpy arrays\n",
    "print('Loading datasets...')\n",
    "train_data, train_label, test_data, test_label = get_data_from_torchvision_datasets()\n",
    "print(f'Training data: {train_data.shape[0]} {train_data.shape[1]}x{train_data.shape[2]} images')\n",
    "print(f'Testing data: {test_data.shape[0]} {test_data.shape[1]}x{test_data.shape[2]} images')\n",
    "\n",
    "# define model: Using a LeNet-like structure, mostly the same, except using ReLU instead of sigmoid\n",
    "# and maxpooling rather than average pooling\n",
    "model = Sequential(\n",
    "    Conv2d(in_channels=1, out_channels=6, kernel_size=5, stride=1, padding=2),\n",
    "    ReLU(),\n",
    "    MaxPool2d(kernel_size=2, stride=2),\n",
    "    Conv2d(in_channels=6, out_channels=16, kernel_size=5, stride=1, padding=0),\n",
    "    ReLU(),\n",
    "    MaxPool2d(kernel_size=2, stride=2),\n",
    "    Flatten(),\n",
    "    Linear(400, 120),\n",
    "    ReLU(),\n",
    "    Linear(120, 84),\n",
    "    ReLU(),\n",
    "    Linear(84, 10),\n",
    "    )\n",
    "print('='*50)\n",
    "\n",
    "# define training dataloader\n",
    "trainloader = DataLoader(train_data, train_label, batch_size=10, shuffle=True)\n",
    "\n",
    "# use SGD optimizer\n",
    "optimizer = SGD(model, lr=1e-4)\n",
    "\n",
    "epochs = 1\n",
    "iteration = 0\n",
    "starting_time = time.time()\n",
    "\n",
    "for _ in range(epochs):\n",
    "    for data in trainloader:\n",
    "        images = data[0]\n",
    "        labels = data[1]\n",
    "        # forward\n",
    "        loss = Cross_entropy(model, images, labels)\n",
    "        # backward\n",
    "        loss.backward()\n",
    "        # update\n",
    "        optimizer.step()\n",
    "\n",
    "        if iteration % 1000 == 0:\n",
    "            print(f'Iteration: {iteration} | Loss: {loss.item():.3f}')\n",
    "        iteration += 1\n",
    "\n",
    "print('='*50)\n",
    "print('Traninig completed.')\n",
    "print(f'Total training time:{time.time() - starting_time:.4f}s')\n",
    "print(f'Training iteration :', iteration)\n",
    "# 1 epoch of training takes about 7 minutes on Apple M1 chip\n",
    "\n",
    "# save trained model to 'pretrained_model.npy'\n",
    "model.save_model('pretrained_model')"
   ]
  },
  {
   "attachments": {},
   "cell_type": "markdown",
   "metadata": {},
   "source": [
    "### (Optional) Load pre-trained model\n",
    "To save your time."
   ]
  },
  {
   "cell_type": "code",
   "execution_count": 1,
   "metadata": {},
   "outputs": [],
   "source": [
    "from Get_Datasets import get_data_from_torchvision_datasets\n",
    "from CNN_lib import Linear, Conv2d, MaxPool2d, ReLU, Flatten, Sequential, Cross_entropy, SGD, DataLoader\n",
    "import numpy as np\n",
    "import time\n",
    "# get data\n",
    "train_data, train_label, test_data, test_label = get_data_from_torchvision_datasets()\n",
    "\n",
    "model = Sequential(\n",
    "    Conv2d(in_channels=1, out_channels=6, kernel_size=5, stride=1, padding=2),\n",
    "    ReLU(),\n",
    "    MaxPool2d(kernel_size=2, stride=2),\n",
    "    Conv2d(in_channels=6, out_channels=16, kernel_size=5, stride=1, padding=0),\n",
    "    ReLU(),\n",
    "    MaxPool2d(kernel_size=2, stride=2),\n",
    "    Flatten(),\n",
    "    Linear(400, 120),\n",
    "    ReLU(),\n",
    "    Linear(120, 84),\n",
    "    ReLU(),\n",
    "    Linear(84, 10),\n",
    "    )\n",
    "model.load_model('pretrained_model.npy')"
   ]
  },
  {
   "attachments": {},
   "cell_type": "markdown",
   "metadata": {},
   "source": [
    "### Model information"
   ]
  },
  {
   "cell_type": "code",
   "execution_count": 5,
   "metadata": {},
   "outputs": [
    {
     "name": "stdout",
     "output_type": "stream",
     "text": [
      "Sequential( \n",
      "  Conv2d(1, 6, kernel_size=(5, 5), stride=(1, 1), padding=((2, 2)))\n",
      "  ReLU()\n",
      "  MaxPool2d(kernel_size=2, stride=2, padding=0)\n",
      "  Conv2d(6, 16, kernel_size=(5, 5), stride=(1, 1), padding=((0, 0)))\n",
      "  ReLU()\n",
      "  MaxPool2d(kernel_size=2, stride=2, padding=0)\n",
      "  Flatten(start_dim=1, end_dim=-1)\n",
      "  Linear(in_features=400, out_features=120, bias=True)\n",
      "  ReLU()\n",
      "  Linear(in_features=120, out_features=84, bias=True)\n",
      "  ReLU()\n",
      "  Linear(in_features=84, out_features=10, bias=True)\n",
      ")\n",
      "Number of parameters : 61706\n"
     ]
    }
   ],
   "source": [
    "print(model)"
   ]
  },
  {
   "attachments": {},
   "cell_type": "markdown",
   "metadata": {},
   "source": [
    "### Test accuracy"
   ]
  },
  {
   "cell_type": "code",
   "execution_count": 6,
   "metadata": {},
   "outputs": [
    {
     "name": "stdout",
     "output_type": "stream",
     "text": [
      "------------------------------\n",
      "test_accuracy : 97.02%\n",
      "------------------------------\n"
     ]
    }
   ],
   "source": [
    "# compute accuracy using the whole 10000 test images\n",
    "\n",
    "testloader = DataLoader(test_data, test_label, batch_size=1000, shuffle=False)\n",
    "test_accuracy = []\n",
    "for data in testloader:\n",
    "    images, labels = data\n",
    "    test_accuracy.append(np.mean(np.argmax(model(images), axis=1) == labels))\n",
    "\n",
    "test_accuracy = np.mean(test_accuracy)\n",
    "print('-'*30)\n",
    "print(f'test_accuracy : {test_accuracy*100:.2f}%')\n",
    "print('-'*30)"
   ]
  },
  {
   "attachments": {},
   "cell_type": "markdown",
   "metadata": {},
   "source": [
    "### Classify images with trained model"
   ]
  },
  {
   "cell_type": "code",
   "execution_count": 10,
   "metadata": {},
   "outputs": [
    {
     "data": {
      "image/png": "[encoded data removed]",
      "text/plain": [
       "<Figure size 864x864 with 36 Axes>"
      ]
     },
     "metadata": {
      "needs_background": "light"
     },
     "output_type": "display_data"
    }
   ],
   "source": [
    "import matplotlib.pyplot as plt\n",
    "\n",
    "cols, rows = 6, 6,\n",
    "testloader = DataLoader(test_data, test_label, batch_size=cols*rows, shuffle=True)\n",
    "image_data, label_data = testloader[0]\n",
    "\n",
    "figure = plt.figure(figsize=(12, 12))\n",
    "for i in range(1, cols * rows + 1):\n",
    "    predicted_label = np.argmax(model(image_data[i-1].reshape(1, 1, 28, 28)))\n",
    "    image = np.squeeze(image_data[i-1])\n",
    "    # prediction correct -> true; incorrect -> false\n",
    "    if_correct = (predicted_label==label_data[i-1])\n",
    "    figure.add_subplot(rows, cols, i)\n",
    "    plt.imshow(image, cmap='gray')\n",
    "    plt.axis('off')\n",
    "    plt.title(f'Prediction:{predicted_label} | {if_correct}')"
   ]
  },
  {
   "attachments": {},
   "cell_type": "markdown",
   "metadata": {},
   "source": [
    "### Time consumption for for each forward and backward pass in each layer"
   ]
  },
  {
   "cell_type": "code",
   "execution_count": 137,
   "metadata": {},
   "outputs": [
    {
     "name": "stdout",
     "output_type": "stream",
     "text": [
      "\t\tforward\t\tbackward\n",
      "Conv2d    |\t2.206s\t\t5.655s\n",
      "ReLU      |\t0.024s\t\t0.069s\n",
      "MaxPool2d |\t1.122s\t\t10.147s\n",
      "Conv2d    |\t0.403s\t\t1.744s\n",
      "ReLU      |\t0.012s\t\t0.019s\n",
      "MaxPool2d |\t0.191s\t\t1.451s\n",
      "Flatten   |\t0.032s\t\t0.005s\n",
      "Linear    |\t0.171s\t\t0.185s\n",
      "ReLU      |\t0.012s\t\t0.010s\n",
      "Linear    |\t0.072s\t\t0.117s\n",
      "ReLU      |\t0.010s\t\t0.009s\n",
      "Linear    |\t0.010s\t\t0.036s\n",
      "----------------------------------------\n",
      "Total forward + backward time : 23.7098s\n"
     ]
    }
   ],
   "source": [
    "print('\\t\\tforward\\t\\tbackward')\n",
    "for layer, i in zip(model.layers, model.forward_time):\n",
    "    print(f'{layer.name}|\\t{model.forward_time[i]:.3f}s\\t\\t{model.backward_time[i]:.3f}s')\n",
    "print('-'*40)\n",
    "print(f'Total forward + backward time : {sum(model.forward_time[i]+model.backward_time[i] for i in model.forward_time):.4f}s')"
   ]
  },
  {
   "cell_type": "code",
   "execution_count": null,
   "metadata": {},
   "outputs": [],
   "source": []
  }
 ],
 "metadata": {
  "kernelspec": {
   "display_name": "base",
   "language": "python",
   "name": "python3"
  },
  "language_info": {
   "codemirror_mode": {
    "name": "ipython",
    "version": 3
   },
   "file_extension": ".py",
   "mimetype": "text/x-python",
   "name": "python",
   "nbconvert_exporter": "python",
   "pygments_lexer": "ipython3",
   "version": "3.7.9"
  },
  "orig_nbformat": 4
 },
 "nbformat": 4,
 "nbformat_minor": 2
}
